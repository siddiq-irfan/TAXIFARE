{
 "cells": [
  {
   "cell_type": "code",
   "execution_count": 9,
   "id": "d0170fa1",
   "metadata": {},
   "outputs": [],
   "source": [
    "import pandas as pd\n",
    "import numpy as np\n",
    "import seaborn as sns\n",
    "import matplotlib.pyplot as plt\n"
   ]
  },
  {
   "cell_type": "code",
   "execution_count": 12,
   "id": "f11ce756",
   "metadata": {},
   "outputs": [],
   "source": [
    "tf=pd.read_csv('TaxiFare.csv')"
   ]
  },
  {
   "cell_type": "code",
   "execution_count": 13,
   "id": "4c06d9b8",
   "metadata": {},
   "outputs": [
    {
     "data": {
      "text/html": [
       "<div>\n",
       "<style scoped>\n",
       "    .dataframe tbody tr th:only-of-type {\n",
       "        vertical-align: middle;\n",
       "    }\n",
       "\n",
       "    .dataframe tbody tr th {\n",
       "        vertical-align: top;\n",
       "    }\n",
       "\n",
       "    .dataframe thead th {\n",
       "        text-align: right;\n",
       "    }\n",
       "</style>\n",
       "<table border=\"1\" class=\"dataframe\">\n",
       "  <thead>\n",
       "    <tr style=\"text-align: right;\">\n",
       "      <th></th>\n",
       "      <th>unique_id</th>\n",
       "      <th>amount</th>\n",
       "      <th>date_time_of_pickup</th>\n",
       "      <th>longitude_of_pickup</th>\n",
       "      <th>latitude_of_pickup</th>\n",
       "      <th>longitude_of_dropoff</th>\n",
       "      <th>latitude_of_dropoff</th>\n",
       "      <th>no_of_passenger</th>\n",
       "    </tr>\n",
       "  </thead>\n",
       "  <tbody>\n",
       "    <tr>\n",
       "      <th>0</th>\n",
       "      <td>26:21.0</td>\n",
       "      <td>4.5</td>\n",
       "      <td>2009-06-15 17:26:21 UTC</td>\n",
       "      <td>-73.844311</td>\n",
       "      <td>40.721319</td>\n",
       "      <td>-73.841610</td>\n",
       "      <td>40.712278</td>\n",
       "      <td>1</td>\n",
       "    </tr>\n",
       "    <tr>\n",
       "      <th>1</th>\n",
       "      <td>52:16.0</td>\n",
       "      <td>16.9</td>\n",
       "      <td>2010-01-05 16:52:16 UTC</td>\n",
       "      <td>-74.016048</td>\n",
       "      <td>40.711303</td>\n",
       "      <td>-73.979268</td>\n",
       "      <td>40.782004</td>\n",
       "      <td>1</td>\n",
       "    </tr>\n",
       "    <tr>\n",
       "      <th>2</th>\n",
       "      <td>35:00.0</td>\n",
       "      <td>5.7</td>\n",
       "      <td>2011-08-18 00:35:00 UTC</td>\n",
       "      <td>-73.982738</td>\n",
       "      <td>40.761270</td>\n",
       "      <td>-73.991242</td>\n",
       "      <td>40.750562</td>\n",
       "      <td>2</td>\n",
       "    </tr>\n",
       "    <tr>\n",
       "      <th>3</th>\n",
       "      <td>30:42.0</td>\n",
       "      <td>7.7</td>\n",
       "      <td>2012-04-21 04:30:42 UTC</td>\n",
       "      <td>-73.987130</td>\n",
       "      <td>40.733143</td>\n",
       "      <td>-73.991567</td>\n",
       "      <td>40.758092</td>\n",
       "      <td>1</td>\n",
       "    </tr>\n",
       "    <tr>\n",
       "      <th>4</th>\n",
       "      <td>51:00.0</td>\n",
       "      <td>5.3</td>\n",
       "      <td>2010-03-09 07:51:00 UTC</td>\n",
       "      <td>-73.968095</td>\n",
       "      <td>40.768008</td>\n",
       "      <td>-73.956655</td>\n",
       "      <td>40.783762</td>\n",
       "      <td>1</td>\n",
       "    </tr>\n",
       "  </tbody>\n",
       "</table>\n",
       "</div>"
      ],
      "text/plain": [
       "  unique_id  amount      date_time_of_pickup  longitude_of_pickup  \\\n",
       "0   26:21.0     4.5  2009-06-15 17:26:21 UTC           -73.844311   \n",
       "1   52:16.0    16.9  2010-01-05 16:52:16 UTC           -74.016048   \n",
       "2   35:00.0     5.7  2011-08-18 00:35:00 UTC           -73.982738   \n",
       "3   30:42.0     7.7  2012-04-21 04:30:42 UTC           -73.987130   \n",
       "4   51:00.0     5.3  2010-03-09 07:51:00 UTC           -73.968095   \n",
       "\n",
       "   latitude_of_pickup  longitude_of_dropoff  latitude_of_dropoff  \\\n",
       "0           40.721319            -73.841610            40.712278   \n",
       "1           40.711303            -73.979268            40.782004   \n",
       "2           40.761270            -73.991242            40.750562   \n",
       "3           40.733143            -73.991567            40.758092   \n",
       "4           40.768008            -73.956655            40.783762   \n",
       "\n",
       "   no_of_passenger  \n",
       "0                1  \n",
       "1                1  \n",
       "2                2  \n",
       "3                1  \n",
       "4                1  "
      ]
     },
     "execution_count": 13,
     "metadata": {},
     "output_type": "execute_result"
    }
   ],
   "source": [
    "tf.head()"
   ]
  },
  {
   "cell_type": "code",
   "execution_count": 14,
   "id": "c4c9fff0",
   "metadata": {},
   "outputs": [
    {
     "data": {
      "text/html": [
       "<div>\n",
       "<style scoped>\n",
       "    .dataframe tbody tr th:only-of-type {\n",
       "        vertical-align: middle;\n",
       "    }\n",
       "\n",
       "    .dataframe tbody tr th {\n",
       "        vertical-align: top;\n",
       "    }\n",
       "\n",
       "    .dataframe thead th {\n",
       "        text-align: right;\n",
       "    }\n",
       "</style>\n",
       "<table border=\"1\" class=\"dataframe\">\n",
       "  <thead>\n",
       "    <tr style=\"text-align: right;\">\n",
       "      <th></th>\n",
       "      <th>amount</th>\n",
       "      <th>longitude_of_pickup</th>\n",
       "      <th>latitude_of_pickup</th>\n",
       "      <th>longitude_of_dropoff</th>\n",
       "      <th>latitude_of_dropoff</th>\n",
       "      <th>no_of_passenger</th>\n",
       "    </tr>\n",
       "  </thead>\n",
       "  <tbody>\n",
       "    <tr>\n",
       "      <th>count</th>\n",
       "      <td>50000.000000</td>\n",
       "      <td>50000.000000</td>\n",
       "      <td>50000.000000</td>\n",
       "      <td>50000.000000</td>\n",
       "      <td>50000.000000</td>\n",
       "      <td>50000.000000</td>\n",
       "    </tr>\n",
       "    <tr>\n",
       "      <th>mean</th>\n",
       "      <td>11.364171</td>\n",
       "      <td>-72.509756</td>\n",
       "      <td>39.933759</td>\n",
       "      <td>-72.504616</td>\n",
       "      <td>39.926251</td>\n",
       "      <td>1.667840</td>\n",
       "    </tr>\n",
       "    <tr>\n",
       "      <th>std</th>\n",
       "      <td>9.685557</td>\n",
       "      <td>10.393860</td>\n",
       "      <td>6.224857</td>\n",
       "      <td>10.407570</td>\n",
       "      <td>6.014737</td>\n",
       "      <td>1.289195</td>\n",
       "    </tr>\n",
       "    <tr>\n",
       "      <th>min</th>\n",
       "      <td>-5.000000</td>\n",
       "      <td>-75.423848</td>\n",
       "      <td>-74.006893</td>\n",
       "      <td>-84.654241</td>\n",
       "      <td>-74.006377</td>\n",
       "      <td>0.000000</td>\n",
       "    </tr>\n",
       "    <tr>\n",
       "      <th>25%</th>\n",
       "      <td>6.000000</td>\n",
       "      <td>-73.992062</td>\n",
       "      <td>40.734880</td>\n",
       "      <td>-73.991152</td>\n",
       "      <td>40.734372</td>\n",
       "      <td>1.000000</td>\n",
       "    </tr>\n",
       "    <tr>\n",
       "      <th>50%</th>\n",
       "      <td>8.500000</td>\n",
       "      <td>-73.981840</td>\n",
       "      <td>40.752678</td>\n",
       "      <td>-73.980082</td>\n",
       "      <td>40.753372</td>\n",
       "      <td>1.000000</td>\n",
       "    </tr>\n",
       "    <tr>\n",
       "      <th>75%</th>\n",
       "      <td>12.500000</td>\n",
       "      <td>-73.967148</td>\n",
       "      <td>40.767360</td>\n",
       "      <td>-73.963584</td>\n",
       "      <td>40.768167</td>\n",
       "      <td>2.000000</td>\n",
       "    </tr>\n",
       "    <tr>\n",
       "      <th>max</th>\n",
       "      <td>200.000000</td>\n",
       "      <td>40.783472</td>\n",
       "      <td>401.083332</td>\n",
       "      <td>40.851027</td>\n",
       "      <td>43.415190</td>\n",
       "      <td>6.000000</td>\n",
       "    </tr>\n",
       "  </tbody>\n",
       "</table>\n",
       "</div>"
      ],
      "text/plain": [
       "             amount  longitude_of_pickup  latitude_of_pickup  \\\n",
       "count  50000.000000         50000.000000        50000.000000   \n",
       "mean      11.364171           -72.509756           39.933759   \n",
       "std        9.685557            10.393860            6.224857   \n",
       "min       -5.000000           -75.423848          -74.006893   \n",
       "25%        6.000000           -73.992062           40.734880   \n",
       "50%        8.500000           -73.981840           40.752678   \n",
       "75%       12.500000           -73.967148           40.767360   \n",
       "max      200.000000            40.783472          401.083332   \n",
       "\n",
       "       longitude_of_dropoff  latitude_of_dropoff  no_of_passenger  \n",
       "count          50000.000000         50000.000000     50000.000000  \n",
       "mean             -72.504616            39.926251         1.667840  \n",
       "std               10.407570             6.014737         1.289195  \n",
       "min              -84.654241           -74.006377         0.000000  \n",
       "25%              -73.991152            40.734372         1.000000  \n",
       "50%              -73.980082            40.753372         1.000000  \n",
       "75%              -73.963584            40.768167         2.000000  \n",
       "max               40.851027            43.415190         6.000000  "
      ]
     },
     "execution_count": 14,
     "metadata": {},
     "output_type": "execute_result"
    }
   ],
   "source": [
    "tf.describe()"
   ]
  },
  {
   "cell_type": "code",
   "execution_count": 15,
   "id": "afdd1a3e",
   "metadata": {},
   "outputs": [
    {
     "data": {
      "text/plain": [
       "(50000, 8)"
      ]
     },
     "execution_count": 15,
     "metadata": {},
     "output_type": "execute_result"
    }
   ],
   "source": [
    "tf.shape"
   ]
  },
  {
   "cell_type": "code",
   "execution_count": 16,
   "id": "407336de",
   "metadata": {},
   "outputs": [
    {
     "data": {
      "text/plain": [
       "Text(0.5, 1.0, 'Histogrm of Taxi Fare amount')"
      ]
     },
     "execution_count": 16,
     "metadata": {},
     "output_type": "execute_result"
    },
    {
     "data": {
      "image/png": "[encoded data removed]",
      "text/plain": [
       "<Figure size 432x288 with 1 Axes>"
      ]
     },
     "metadata": {
      "needs_background": "light"
     },
     "output_type": "display_data"
    }
   ],
   "source": [
    "#histogram\n",
    "plt.hist(tf.amount, bins='auto')\n",
    "plt.xlabel('Fare Amount')\n",
    "plt.ylabel('counts')\n",
    "plt.title('Histogrm of Taxi Fare amount')"
   ]
  },
  {
   "cell_type": "code",
   "execution_count": 17,
   "id": "323e4b63",
   "metadata": {},
   "outputs": [
    {
     "data": {
      "text/plain": [
       "<AxesSubplot:>"
      ]
     },
     "execution_count": 17,
     "metadata": {},
     "output_type": "execute_result"
    },
    {
     "data": {
      "image/png": "[encoded data removed]",
      "text/plain": [
       "<Figure size 432x288 with 1 Axes>"
      ]
     },
     "metadata": {
      "needs_background": "light"
     },
     "output_type": "display_data"
    }
   ],
   "source": [
    "#Boxplot\n",
    "props2 = dict(boxes = 'red', whiskers = 'green', medians = 'black', caps = 'red')\n",
    "tf.amount.plot.box(color=props2, patch_artist = True, vert = False) #Outliers"
   ]
  },
  {
   "cell_type": "code",
   "execution_count": 18,
   "id": "59ffd6c9",
   "metadata": {},
   "outputs": [
    {
     "data": {
      "text/plain": [
       "4364"
      ]
     },
     "execution_count": 18,
     "metadata": {},
     "output_type": "execute_result"
    }
   ],
   "source": [
    "#Getting the Iqr, up_lim & low_lim\n",
    "iqr = tf.amount.describe()['75%'] - tf.amount.describe()['25%'] \n",
    "iqr #6.5 \n",
    "low_lim = tf.amount.describe()['25%']-1.5*iqr #-3.75\n",
    "len(tf.amount[tf.amount < low_lim]) #1\n",
    "up_lim = tf.amount.describe()['75%']+1.5*iqr #22.5\n",
    "len(tf.amount[tf.amount > up_lim]) #4364 ie 8.7% of data"
   ]
  },
  {
   "cell_type": "code",
   "execution_count": 19,
   "id": "658e68a8",
   "metadata": {},
   "outputs": [
    {
     "data": {
      "text/plain": [
       "636"
      ]
     },
     "execution_count": 19,
     "metadata": {},
     "output_type": "execute_result"
    }
   ],
   "source": [
    "\n",
    "#Getting the count of values \n",
    "tf.amount.value_counts()\n",
    "len(tf.amount[tf.amount <0]) #6\n",
    "len(tf.amount[tf.amount >150]) #5\n",
    "len(tf.amount[tf.amount >100]) #16\n",
    "len(tf.amount[tf.amount >50]) #636"
   ]
  },
  {
   "cell_type": "code",
   "execution_count": 20,
   "id": "7bd1362a",
   "metadata": {},
   "outputs": [
    {
     "name": "stdout",
     "output_type": "stream",
     "text": [
      "<class 'pandas.core.frame.DataFrame'>\n",
      "RangeIndex: 50000 entries, 0 to 49999\n",
      "Data columns (total 8 columns):\n",
      " #   Column                Non-Null Count  Dtype  \n",
      "---  ------                --------------  -----  \n",
      " 0   unique_id             50000 non-null  object \n",
      " 1   amount                50000 non-null  float64\n",
      " 2   date_time_of_pickup   50000 non-null  object \n",
      " 3   longitude_of_pickup   50000 non-null  float64\n",
      " 4   latitude_of_pickup    50000 non-null  float64\n",
      " 5   longitude_of_dropoff  50000 non-null  float64\n",
      " 6   latitude_of_dropoff   50000 non-null  float64\n",
      " 7   no_of_passenger       50000 non-null  int64  \n",
      "dtypes: float64(5), int64(1), object(2)\n",
      "memory usage: 3.1+ MB\n",
      "<class 'pandas.core.frame.DataFrame'>\n",
      "RangeIndex: 50000 entries, 0 to 49999\n",
      "Data columns (total 8 columns):\n",
      " #   Column                Non-Null Count  Dtype              \n",
      "---  ------                --------------  -----              \n",
      " 0   unique_id             50000 non-null  object             \n",
      " 1   amount                50000 non-null  float64            \n",
      " 2   date_time_of_pickup   50000 non-null  datetime64[ns, UTC]\n",
      " 3   longitude_of_pickup   50000 non-null  float64            \n",
      " 4   latitude_of_pickup    50000 non-null  float64            \n",
      " 5   longitude_of_dropoff  50000 non-null  float64            \n",
      " 6   latitude_of_dropoff   50000 non-null  float64            \n",
      " 7   no_of_passenger       50000 non-null  int64              \n",
      "dtypes: datetime64[ns, UTC](1), float64(5), int64(1), object(1)\n",
      "memory usage: 3.1+ MB\n"
     ]
    },
    {
     "data": {
      "text/plain": [
       "0   2009-06-15 17:26:21+00:00\n",
       "1   2010-01-05 16:52:16+00:00\n",
       "2   2011-08-18 00:35:00+00:00\n",
       "3   2012-04-21 04:30:42+00:00\n",
       "4   2010-03-09 07:51:00+00:00\n",
       "Name: date_time_of_pickup, dtype: datetime64[ns, UTC]"
      ]
     },
     "execution_count": 20,
     "metadata": {},
     "output_type": "execute_result"
    }
   ],
   "source": [
    "#______________________________2 date_time_of_pickup\n",
    "tf.date_time_of_pickup.describe()\n",
    "tf.info()\n",
    "#Converting Date & Time variable from object to datetime type\n",
    "tf.date_time_of_pickup = pd.to_datetime(tf.date_time_of_pickup)\n",
    "tf.info()\n",
    "tf.date_time_of_pickup.head()"
   ]
  },
  {
   "cell_type": "code",
   "execution_count": 21,
   "id": "a9e28378",
   "metadata": {},
   "outputs": [],
   "source": [
    "\n",
    "#Extracting Year,Month,Day, Hour\n",
    "tf['year'] = tf[\"date_time_of_pickup\"].dt.year\n",
    "tf['month'] = tf[\"date_time_of_pickup\"].dt.month_name()\n",
    "tf['day'] = tf[\"date_time_of_pickup\"].dt.day_name()\n",
    "tf['hour'] = tf[\"date_time_of_pickup\"].dt.hour #24hours time"
   ]
  },
  {
   "cell_type": "code",
   "execution_count": 22,
   "id": "d11b40f1",
   "metadata": {},
   "outputs": [
    {
     "data": {
      "text/plain": [
       "Text(0.5, 1.0, 'Yearwise counting')"
      ]
     },
     "execution_count": 22,
     "metadata": {},
     "output_type": "execute_result"
    },
    {
     "data": {
      "image/png": "[encoded data removed]",
      "text/plain": [
       "<Figure size 432x288 with 1 Axes>"
      ]
     },
     "metadata": {
      "needs_background": "light"
     },
     "output_type": "display_data"
    }
   ],
   "source": [
    "#_______________3 year\n",
    "#Barplot/ Countplot\n",
    "sns.countplot(x='year', data=tf)\n",
    "plt.xlabel(\"Fare Amount\")\n",
    "plt.ylabel('counts')\n",
    "plt.title(\"Yearwise counting\")"
   ]
  },
  {
   "cell_type": "code",
   "execution_count": 23,
   "id": "c26d1645",
   "metadata": {},
   "outputs": [
    {
     "data": {
      "text/plain": [
       "'\\n2012    8005\\n2011    7832\\n2013    7819\\n2009    7716\\n2010    7646\\n2014    7530\\n2015    3452'"
      ]
     },
     "execution_count": 23,
     "metadata": {},
     "output_type": "execute_result"
    }
   ],
   "source": [
    "tf.year.value_counts()\n",
    "'''\n",
    "2012    8005\n",
    "2011    7832\n",
    "2013    7819\n",
    "2009    7716\n",
    "2010    7646\n",
    "2014    7530\n",
    "2015    3452'''"
   ]
  },
  {
   "cell_type": "code",
   "execution_count": 24,
   "id": "8a2ec5b2",
   "metadata": {},
   "outputs": [
    {
     "data": {
      "text/plain": [
       "<AxesSubplot:>"
      ]
     },
     "execution_count": 24,
     "metadata": {},
     "output_type": "execute_result"
    },
    {
     "data": {
      "image/png": "[encoded data removed]",
      "text/plain": [
       "<Figure size 432x288 with 1 Axes>"
      ]
     },
     "metadata": {
      "needs_background": "light"
     },
     "output_type": "display_data"
    }
   ],
   "source": [
    "#Boxplot\n",
    "props2 = dict(boxes = 'red', whiskers = 'green', medians = 'black', caps = 'red')\n",
    "tf.year.plot.box(color=props2, patch_artist = True, vert = False) # No Outliers\" and of no use "
   ]
  },
  {
   "cell_type": "code",
   "execution_count": 46,
   "id": "50b9cc18",
   "metadata": {},
   "outputs": [
    {
     "data": {
      "text/plain": [
       "[<matplotlib.lines.Line2D at 0x205557e3e80>]"
      ]
     },
     "execution_count": 46,
     "metadata": {},
     "output_type": "execute_result"
    },
    {
     "data": {
      "image/png": "[encoded data removed]",
      "text/plain": [
       "<Figure size 432x288 with 1 Axes>"
      ]
     },
     "metadata": {
      "needs_background": "light"
     },
     "output_type": "display_data"
    }
   ],
   "source": [
    "tf.groupby('year')['amount'].describe()\n",
    "\n",
    "plt.plot(tf.groupby('year')['amount'].count())\n",
    "plt.plot(tf.groupby('year')['amount'].mean())"
   ]
  },
  {
   "cell_type": "code",
   "execution_count": 26,
   "id": "23c8f618",
   "metadata": {},
   "outputs": [
    {
     "data": {
      "text/plain": [
       "(array([ 0,  1,  2,  3,  4,  5,  6,  7,  8,  9, 10, 11]),\n",
       " [Text(0, 0, 'June'),\n",
       "  Text(1, 0, 'January'),\n",
       "  Text(2, 0, 'August'),\n",
       "  Text(3, 0, 'April'),\n",
       "  Text(4, 0, 'March'),\n",
       "  Text(5, 0, 'November'),\n",
       "  Text(6, 0, 'December'),\n",
       "  Text(7, 0, 'September'),\n",
       "  Text(8, 0, 'July'),\n",
       "  Text(9, 0, 'February'),\n",
       "  Text(10, 0, 'May'),\n",
       "  Text(11, 0, 'October')])"
      ]
     },
     "execution_count": 26,
     "metadata": {},
     "output_type": "execute_result"
    },
    {
     "data": {
      "image/png": "[encoded data removed]",
      "text/plain": [
       "<Figure size 432x288 with 1 Axes>"
      ]
     },
     "metadata": {
      "needs_background": "light"
     },
     "output_type": "display_data"
    }
   ],
   "source": [
    "#__________________4 month\n",
    "#Barplot/ Countplot\n",
    "sns.countplot(x='month', data=tf)\n",
    "plt.xlabel(\"Fare Amount\")\n",
    "plt.ylabel('counts')\n",
    "plt.title(\"Monthwise counting\")\n",
    "plt.xticks(rotation=90)"
   ]
  },
  {
   "cell_type": "code",
   "execution_count": 44,
   "id": "baf00044",
   "metadata": {},
   "outputs": [
    {
     "data": {
      "text/html": [
       "<div>\n",
       "<style scoped>\n",
       "    .dataframe tbody tr th:only-of-type {\n",
       "        vertical-align: middle;\n",
       "    }\n",
       "\n",
       "    .dataframe tbody tr th {\n",
       "        vertical-align: top;\n",
       "    }\n",
       "\n",
       "    .dataframe thead th {\n",
       "        text-align: right;\n",
       "    }\n",
       "</style>\n",
       "<table border=\"1\" class=\"dataframe\">\n",
       "  <thead>\n",
       "    <tr style=\"text-align: right;\">\n",
       "      <th></th>\n",
       "      <th>count</th>\n",
       "      <th>mean</th>\n",
       "      <th>std</th>\n",
       "      <th>min</th>\n",
       "      <th>25%</th>\n",
       "      <th>50%</th>\n",
       "      <th>75%</th>\n",
       "      <th>max</th>\n",
       "    </tr>\n",
       "    <tr>\n",
       "      <th>month</th>\n",
       "      <th></th>\n",
       "      <th></th>\n",
       "      <th></th>\n",
       "      <th></th>\n",
       "      <th></th>\n",
       "      <th></th>\n",
       "      <th></th>\n",
       "      <th></th>\n",
       "    </tr>\n",
       "  </thead>\n",
       "  <tbody>\n",
       "    <tr>\n",
       "      <th>1</th>\n",
       "      <td>4546.0</td>\n",
       "      <td>10.700930</td>\n",
       "      <td>9.235979</td>\n",
       "      <td>2.5</td>\n",
       "      <td>5.7</td>\n",
       "      <td>8.0</td>\n",
       "      <td>11.7</td>\n",
       "      <td>180.00</td>\n",
       "    </tr>\n",
       "    <tr>\n",
       "      <th>2</th>\n",
       "      <td>4302.0</td>\n",
       "      <td>10.933728</td>\n",
       "      <td>9.510653</td>\n",
       "      <td>0.0</td>\n",
       "      <td>6.0</td>\n",
       "      <td>8.1</td>\n",
       "      <td>12.1</td>\n",
       "      <td>200.00</td>\n",
       "    </tr>\n",
       "    <tr>\n",
       "      <th>3</th>\n",
       "      <td>4671.0</td>\n",
       "      <td>11.085596</td>\n",
       "      <td>9.172258</td>\n",
       "      <td>-5.0</td>\n",
       "      <td>5.8</td>\n",
       "      <td>8.1</td>\n",
       "      <td>12.5</td>\n",
       "      <td>80.50</td>\n",
       "    </tr>\n",
       "    <tr>\n",
       "      <th>4</th>\n",
       "      <td>4519.0</td>\n",
       "      <td>11.321361</td>\n",
       "      <td>9.487037</td>\n",
       "      <td>-2.5</td>\n",
       "      <td>6.0</td>\n",
       "      <td>8.5</td>\n",
       "      <td>12.5</td>\n",
       "      <td>93.75</td>\n",
       "    </tr>\n",
       "    <tr>\n",
       "      <th>5</th>\n",
       "      <td>4612.0</td>\n",
       "      <td>11.868103</td>\n",
       "      <td>10.307439</td>\n",
       "      <td>0.0</td>\n",
       "      <td>6.1</td>\n",
       "      <td>8.9</td>\n",
       "      <td>13.3</td>\n",
       "      <td>160.00</td>\n",
       "    </tr>\n",
       "    <tr>\n",
       "      <th>6</th>\n",
       "      <td>4516.0</td>\n",
       "      <td>11.457146</td>\n",
       "      <td>9.267060</td>\n",
       "      <td>2.5</td>\n",
       "      <td>6.1</td>\n",
       "      <td>8.5</td>\n",
       "      <td>13.0</td>\n",
       "      <td>96.25</td>\n",
       "    </tr>\n",
       "    <tr>\n",
       "      <th>7</th>\n",
       "      <td>3656.0</td>\n",
       "      <td>10.937166</td>\n",
       "      <td>8.947714</td>\n",
       "      <td>2.5</td>\n",
       "      <td>6.0</td>\n",
       "      <td>8.1</td>\n",
       "      <td>12.1</td>\n",
       "      <td>120.00</td>\n",
       "    </tr>\n",
       "    <tr>\n",
       "      <th>8</th>\n",
       "      <td>3543.0</td>\n",
       "      <td>11.316616</td>\n",
       "      <td>10.315227</td>\n",
       "      <td>-3.0</td>\n",
       "      <td>6.0</td>\n",
       "      <td>8.5</td>\n",
       "      <td>12.5</td>\n",
       "      <td>165.00</td>\n",
       "    </tr>\n",
       "    <tr>\n",
       "      <th>9</th>\n",
       "      <td>3810.0</td>\n",
       "      <td>11.970438</td>\n",
       "      <td>10.031989</td>\n",
       "      <td>2.5</td>\n",
       "      <td>6.1</td>\n",
       "      <td>8.9</td>\n",
       "      <td>13.5</td>\n",
       "      <td>96.00</td>\n",
       "    </tr>\n",
       "    <tr>\n",
       "      <th>10</th>\n",
       "      <td>4046.0</td>\n",
       "      <td>11.573947</td>\n",
       "      <td>9.732684</td>\n",
       "      <td>2.5</td>\n",
       "      <td>6.0</td>\n",
       "      <td>8.5</td>\n",
       "      <td>12.9</td>\n",
       "      <td>100.00</td>\n",
       "    </tr>\n",
       "    <tr>\n",
       "      <th>11</th>\n",
       "      <td>3764.0</td>\n",
       "      <td>11.618807</td>\n",
       "      <td>9.977558</td>\n",
       "      <td>2.5</td>\n",
       "      <td>6.1</td>\n",
       "      <td>8.5</td>\n",
       "      <td>13.0</td>\n",
       "      <td>165.00</td>\n",
       "    </tr>\n",
       "    <tr>\n",
       "      <th>12</th>\n",
       "      <td>4015.0</td>\n",
       "      <td>11.670543</td>\n",
       "      <td>10.212445</td>\n",
       "      <td>2.5</td>\n",
       "      <td>6.0</td>\n",
       "      <td>8.5</td>\n",
       "      <td>13.0</td>\n",
       "      <td>135.00</td>\n",
       "    </tr>\n",
       "  </tbody>\n",
       "</table>\n",
       "</div>"
      ],
      "text/plain": [
       "        count       mean        std  min  25%  50%   75%     max\n",
       "month                                                           \n",
       "1      4546.0  10.700930   9.235979  2.5  5.7  8.0  11.7  180.00\n",
       "2      4302.0  10.933728   9.510653  0.0  6.0  8.1  12.1  200.00\n",
       "3      4671.0  11.085596   9.172258 -5.0  5.8  8.1  12.5   80.50\n",
       "4      4519.0  11.321361   9.487037 -2.5  6.0  8.5  12.5   93.75\n",
       "5      4612.0  11.868103  10.307439  0.0  6.1  8.9  13.3  160.00\n",
       "6      4516.0  11.457146   9.267060  2.5  6.1  8.5  13.0   96.25\n",
       "7      3656.0  10.937166   8.947714  2.5  6.0  8.1  12.1  120.00\n",
       "8      3543.0  11.316616  10.315227 -3.0  6.0  8.5  12.5  165.00\n",
       "9      3810.0  11.970438  10.031989  2.5  6.1  8.9  13.5   96.00\n",
       "10     4046.0  11.573947   9.732684  2.5  6.0  8.5  12.9  100.00\n",
       "11     3764.0  11.618807   9.977558  2.5  6.1  8.5  13.0  165.00\n",
       "12     4015.0  11.670543  10.212445  2.5  6.0  8.5  13.0  135.00"
      ]
     },
     "execution_count": 44,
     "metadata": {},
     "output_type": "execute_result"
    }
   ],
   "source": [
    "tf.groupby('month')['amount'].describe() # will be alphabetic\n"
   ]
  },
  {
   "cell_type": "code",
   "execution_count": 28,
   "id": "c5a919aa",
   "metadata": {},
   "outputs": [
    {
     "data": {
      "image/png": "[encoded data removed]",
      "text/plain": [
       "<Figure size 432x288 with 1 Axes>"
      ]
     },
     "metadata": {
      "needs_background": "light"
     },
     "output_type": "display_data"
    }
   ],
   "source": [
    "#Plots for COUNTS as per alphabetical order\n",
    "plt.plot(tf.groupby('month')['amount'].count())\n",
    "plt.xticks(rotation=90)\n",
    "plt.title(\"Monthwise counting\")\n",
    "plt.show()\n"
   ]
  },
  {
   "cell_type": "code",
   "execution_count": 29,
   "id": "e22db0c9",
   "metadata": {},
   "outputs": [
    {
     "data": {
      "image/png": "[encoded data removed]",
      "text/plain": [
       "<Figure size 432x288 with 1 Axes>"
      ]
     },
     "metadata": {
      "needs_background": "light"
     },
     "output_type": "display_data"
    }
   ],
   "source": [
    "# plot for MEAN\n",
    "plt.plot(tf.groupby('month')['amount'].mean())\n",
    "plt.xticks(rotation=90)\n",
    "plt.title(\"Monthwise Mean Fare\")\n",
    "plt.show()"
   ]
  },
  {
   "cell_type": "code",
   "execution_count": 30,
   "id": "a7740499",
   "metadata": {},
   "outputs": [
    {
     "name": "stdout",
     "output_type": "stream",
     "text": [
      "0         6\n",
      "1         1\n",
      "2         8\n",
      "3         4\n",
      "4         3\n",
      "         ..\n",
      "49995     6\n",
      "49996     6\n",
      "49997     1\n",
      "49998    11\n",
      "49999     1\n",
      "Name: month, Length: 50000, dtype: int64\n",
      "<class 'pandas.core.frame.DataFrame'>\n",
      "RangeIndex: 50000 entries, 0 to 49999\n",
      "Data columns (total 12 columns):\n",
      " #   Column                Non-Null Count  Dtype              \n",
      "---  ------                --------------  -----              \n",
      " 0   unique_id             50000 non-null  object             \n",
      " 1   amount                50000 non-null  float64            \n",
      " 2   date_time_of_pickup   50000 non-null  datetime64[ns, UTC]\n",
      " 3   longitude_of_pickup   50000 non-null  float64            \n",
      " 4   latitude_of_pickup    50000 non-null  float64            \n",
      " 5   longitude_of_dropoff  50000 non-null  float64            \n",
      " 6   latitude_of_dropoff   50000 non-null  float64            \n",
      " 7   no_of_passenger       50000 non-null  int64              \n",
      " 8   year                  50000 non-null  int64              \n",
      " 9   month                 50000 non-null  int64              \n",
      " 10  day                   50000 non-null  object             \n",
      " 11  hour                  50000 non-null  int64              \n",
      "dtypes: datetime64[ns, UTC](1), float64(5), int64(4), object(2)\n",
      "memory usage: 4.6+ MB\n"
     ]
    }
   ],
   "source": [
    "#Creating dict file\n",
    "month = {'January':1, 'February':2, 'March':3, 'April':4, 'May':5,\n",
    "         'June':6, 'July':7, 'August':8, 'September':9, 'October':10,\n",
    "         'November':11, 'December':12}\n",
    "#Converting month names to numbers\n",
    "tf.month = [month[item] for item in tf.month]\n",
    "print(tf.month)\n",
    "tf.info()"
   ]
  },
  {
   "cell_type": "code",
   "execution_count": 31,
   "id": "ad694244",
   "metadata": {},
   "outputs": [
    {
     "data": {
      "image/png": "[encoded data removed]",
      "text/plain": [
       "<Figure size 432x288 with 1 Axes>"
      ]
     },
     "metadata": {
      "needs_background": "light"
     },
     "output_type": "display_data"
    }
   ],
   "source": [
    "# Plot COUNTS as per calendar [nos]\n",
    "plt.plot(tf.groupby('month')['amount'].count())\n",
    "plt.xticks(rotation=90)\n",
    "plt.title(\"Monthwise counting\")\n",
    "plt.show()"
   ]
  },
  {
   "cell_type": "code",
   "execution_count": 32,
   "id": "7592418d",
   "metadata": {},
   "outputs": [
    {
     "data": {
      "image/png": "[encoded data removed]",
      "text/plain": [
       "<Figure size 432x288 with 1 Axes>"
      ]
     },
     "metadata": {
      "needs_background": "light"
     },
     "output_type": "display_data"
    }
   ],
   "source": [
    "# Plot MEAN as per calendar [nos]\n",
    "plt.plot(tf.groupby('month')['amount'].mean())\n",
    "plt.xticks(rotation=90)\n",
    "plt.title(\"Monthwise Mean Fare\")\n",
    "plt.show()"
   ]
  },
  {
   "cell_type": "code",
   "execution_count": 33,
   "id": "b9bb99e0",
   "metadata": {},
   "outputs": [
    {
     "data": {
      "text/plain": [
       "Text(0.5, 1.0, 'Weekday wise counting')"
      ]
     },
     "execution_count": 33,
     "metadata": {},
     "output_type": "execute_result"
    },
    {
     "data": {
      "image/png": "[encoded data removed]",
      "text/plain": [
       "<Figure size 432x288 with 1 Axes>"
      ]
     },
     "metadata": {
      "needs_background": "light"
     },
     "output_type": "display_data"
    }
   ],
   "source": [
    "#____________________________5 day\n",
    "#Barplot/ Countplot\n",
    "sns.countplot(x='day', data=tf)\n",
    "plt.xlabel(\"Weekdays\")\n",
    "plt.ylabel('counts')\n",
    "plt.title(\"Weekday wise counting\")"
   ]
  },
  {
   "cell_type": "code",
   "execution_count": 43,
   "id": "c9017d87",
   "metadata": {},
   "outputs": [
    {
     "data": {
      "text/html": [
       "<div>\n",
       "<style scoped>\n",
       "    .dataframe tbody tr th:only-of-type {\n",
       "        vertical-align: middle;\n",
       "    }\n",
       "\n",
       "    .dataframe tbody tr th {\n",
       "        vertical-align: top;\n",
       "    }\n",
       "\n",
       "    .dataframe thead th {\n",
       "        text-align: right;\n",
       "    }\n",
       "</style>\n",
       "<table border=\"1\" class=\"dataframe\">\n",
       "  <thead>\n",
       "    <tr style=\"text-align: right;\">\n",
       "      <th></th>\n",
       "      <th>count</th>\n",
       "      <th>mean</th>\n",
       "      <th>std</th>\n",
       "      <th>min</th>\n",
       "      <th>25%</th>\n",
       "      <th>50%</th>\n",
       "      <th>75%</th>\n",
       "      <th>max</th>\n",
       "    </tr>\n",
       "    <tr>\n",
       "      <th>day</th>\n",
       "      <th></th>\n",
       "      <th></th>\n",
       "      <th></th>\n",
       "      <th></th>\n",
       "      <th></th>\n",
       "      <th></th>\n",
       "      <th></th>\n",
       "      <th></th>\n",
       "    </tr>\n",
       "  </thead>\n",
       "  <tbody>\n",
       "    <tr>\n",
       "      <th>1</th>\n",
       "      <td>6518.0</td>\n",
       "      <td>11.520578</td>\n",
       "      <td>9.954766</td>\n",
       "      <td>-2.5</td>\n",
       "      <td>6.0</td>\n",
       "      <td>8.5</td>\n",
       "      <td>13.0</td>\n",
       "      <td>200.00</td>\n",
       "    </tr>\n",
       "    <tr>\n",
       "      <th>2</th>\n",
       "      <td>6639.0</td>\n",
       "      <td>11.569060</td>\n",
       "      <td>10.536296</td>\n",
       "      <td>-5.0</td>\n",
       "      <td>6.0</td>\n",
       "      <td>8.1</td>\n",
       "      <td>12.5</td>\n",
       "      <td>160.00</td>\n",
       "    </tr>\n",
       "    <tr>\n",
       "      <th>3</th>\n",
       "      <td>6927.0</td>\n",
       "      <td>11.166999</td>\n",
       "      <td>9.282690</td>\n",
       "      <td>-2.9</td>\n",
       "      <td>6.0</td>\n",
       "      <td>8.5</td>\n",
       "      <td>12.5</td>\n",
       "      <td>92.49</td>\n",
       "    </tr>\n",
       "    <tr>\n",
       "      <th>4</th>\n",
       "      <td>7212.0</td>\n",
       "      <td>11.104773</td>\n",
       "      <td>9.357399</td>\n",
       "      <td>2.5</td>\n",
       "      <td>6.0</td>\n",
       "      <td>8.5</td>\n",
       "      <td>12.5</td>\n",
       "      <td>180.00</td>\n",
       "    </tr>\n",
       "    <tr>\n",
       "      <th>5</th>\n",
       "      <td>7406.0</td>\n",
       "      <td>11.668594</td>\n",
       "      <td>9.983516</td>\n",
       "      <td>-2.5</td>\n",
       "      <td>6.0</td>\n",
       "      <td>8.5</td>\n",
       "      <td>13.0</td>\n",
       "      <td>149.00</td>\n",
       "    </tr>\n",
       "    <tr>\n",
       "      <th>6</th>\n",
       "      <td>7668.0</td>\n",
       "      <td>11.402240</td>\n",
       "      <td>9.508604</td>\n",
       "      <td>-3.0</td>\n",
       "      <td>6.1</td>\n",
       "      <td>8.5</td>\n",
       "      <td>13.0</td>\n",
       "      <td>165.00</td>\n",
       "    </tr>\n",
       "    <tr>\n",
       "      <th>7</th>\n",
       "      <td>7630.0</td>\n",
       "      <td>11.142731</td>\n",
       "      <td>9.201668</td>\n",
       "      <td>2.5</td>\n",
       "      <td>6.0</td>\n",
       "      <td>8.5</td>\n",
       "      <td>12.5</td>\n",
       "      <td>165.00</td>\n",
       "    </tr>\n",
       "  </tbody>\n",
       "</table>\n",
       "</div>"
      ],
      "text/plain": [
       "      count       mean        std  min  25%  50%   75%     max\n",
       "day                                                           \n",
       "1    6518.0  11.520578   9.954766 -2.5  6.0  8.5  13.0  200.00\n",
       "2    6639.0  11.569060  10.536296 -5.0  6.0  8.1  12.5  160.00\n",
       "3    6927.0  11.166999   9.282690 -2.9  6.0  8.5  12.5   92.49\n",
       "4    7212.0  11.104773   9.357399  2.5  6.0  8.5  12.5  180.00\n",
       "5    7406.0  11.668594   9.983516 -2.5  6.0  8.5  13.0  149.00\n",
       "6    7668.0  11.402240   9.508604 -3.0  6.1  8.5  13.0  165.00\n",
       "7    7630.0  11.142731   9.201668  2.5  6.0  8.5  12.5  165.00"
      ]
     },
     "execution_count": 43,
     "metadata": {},
     "output_type": "execute_result"
    }
   ],
   "source": [
    "tf.groupby('day')['amount'].describe()\n"
   ]
  },
  {
   "cell_type": "code",
   "execution_count": 35,
   "id": "6d9044c0",
   "metadata": {},
   "outputs": [
    {
     "data": {
      "image/png": "[encoded data removed]",
      "text/plain": [
       "<Figure size 432x288 with 1 Axes>"
      ]
     },
     "metadata": {
      "needs_background": "light"
     },
     "output_type": "display_data"
    }
   ],
   "source": [
    "#Plots of daywise in alphabetical order\n",
    "plt.plot(tf.groupby('day')['amount'].count())\n",
    "plt.title(\"Daywise counts\")\n",
    "plt.show()"
   ]
  },
  {
   "cell_type": "code",
   "execution_count": 36,
   "id": "20395d76",
   "metadata": {},
   "outputs": [
    {
     "data": {
      "image/png": "[encoded data removed]",
      "text/plain": [
       "<Figure size 432x288 with 1 Axes>"
      ]
     },
     "metadata": {
      "needs_background": "light"
     },
     "output_type": "display_data"
    }
   ],
   "source": [
    "plt.plot(tf.groupby('day')['amount'].mean())\n",
    "plt.title(\"Daywise mean fare\")\n",
    "plt.show()"
   ]
  },
  {
   "cell_type": "code",
   "execution_count": 37,
   "id": "688a44c6",
   "metadata": {},
   "outputs": [],
   "source": [
    "#Creating dict file\n",
    "day = {'Sunday':1,'Monday':2, 'Tuesday':3, 'Wednesday':4, 'Thursday':5, \n",
    "       'Friday':6, 'Saturday':7 }"
   ]
  },
  {
   "cell_type": "code",
   "execution_count": 38,
   "id": "9cacfac2",
   "metadata": {},
   "outputs": [
    {
     "name": "stdout",
     "output_type": "stream",
     "text": [
      "<class 'pandas.core.frame.DataFrame'>\n",
      "RangeIndex: 50000 entries, 0 to 49999\n",
      "Data columns (total 12 columns):\n",
      " #   Column                Non-Null Count  Dtype              \n",
      "---  ------                --------------  -----              \n",
      " 0   unique_id             50000 non-null  object             \n",
      " 1   amount                50000 non-null  float64            \n",
      " 2   date_time_of_pickup   50000 non-null  datetime64[ns, UTC]\n",
      " 3   longitude_of_pickup   50000 non-null  float64            \n",
      " 4   latitude_of_pickup    50000 non-null  float64            \n",
      " 5   longitude_of_dropoff  50000 non-null  float64            \n",
      " 6   latitude_of_dropoff   50000 non-null  float64            \n",
      " 7   no_of_passenger       50000 non-null  int64              \n",
      " 8   year                  50000 non-null  int64              \n",
      " 9   month                 50000 non-null  int64              \n",
      " 10  day                   50000 non-null  int64              \n",
      " 11  hour                  50000 non-null  int64              \n",
      "dtypes: datetime64[ns, UTC](1), float64(5), int64(5), object(1)\n",
      "memory usage: 4.6+ MB\n"
     ]
    }
   ],
   "source": [
    "#Converting weekdays names into numbers\n",
    "tf.day = [day[item] for item in tf.day]\n",
    "tf.day.head()\n",
    "tf.info()\n"
   ]
  },
  {
   "cell_type": "code",
   "execution_count": 39,
   "id": "77462062",
   "metadata": {},
   "outputs": [
    {
     "data": {
      "image/png": "[encoded data removed]",
      "text/plain": [
       "<Figure size 432x288 with 1 Axes>"
      ]
     },
     "metadata": {
      "needs_background": "light"
     },
     "output_type": "display_data"
    }
   ],
   "source": [
    "#Plots of daywise in order sunday to Saturday\n",
    "plt.plot(tf.groupby('day')['amount'].count())\n",
    "plt.title(\"Daywise counts\")\n",
    "plt.show()"
   ]
  },
  {
   "cell_type": "code",
   "execution_count": 40,
   "id": "43a8edcc",
   "metadata": {},
   "outputs": [
    {
     "data": {
      "image/png": "[encoded data removed]",
      "text/plain": [
       "<Figure size 432x288 with 1 Axes>"
      ]
     },
     "metadata": {
      "needs_background": "light"
     },
     "output_type": "display_data"
    }
   ],
   "source": [
    "plt.plot(tf.groupby('day')['amount'].mean())\n",
    "plt.title(\"Daywise mean fare\")\n",
    "plt.show()\n"
   ]
  },
  {
   "cell_type": "code",
   "execution_count": 41,
   "id": "b615ef9a",
   "metadata": {},
   "outputs": [
    {
     "data": {
      "text/plain": [
       "Text(0.5, 1.0, 'Hourly counting')"
      ]
     },
     "execution_count": 41,
     "metadata": {},
     "output_type": "execute_result"
    },
    {
     "data": {
      "image/png": "[encoded data removed]",
      "text/plain": [
       "<Figure size 432x288 with 1 Axes>"
      ]
     },
     "metadata": {
      "needs_background": "light"
     },
     "output_type": "display_data"
    }
   ],
   "source": [
    "#____________________6 hour\n",
    "#Barplot/ Countplot\n",
    "sns.countplot(x='hour', data=tf)\n",
    "plt.xlabel(\"Hour's\")\n",
    "plt.ylabel('counts')\n",
    "plt.title(\"Hourly counting\")"
   ]
  },
  {
   "cell_type": "code",
   "execution_count": 42,
   "id": "4639ce75",
   "metadata": {},
   "outputs": [
    {
     "data": {
      "text/html": [
       "<div>\n",
       "<style scoped>\n",
       "    .dataframe tbody tr th:only-of-type {\n",
       "        vertical-align: middle;\n",
       "    }\n",
       "\n",
       "    .dataframe tbody tr th {\n",
       "        vertical-align: top;\n",
       "    }\n",
       "\n",
       "    .dataframe thead th {\n",
       "        text-align: right;\n",
       "    }\n",
       "</style>\n",
       "<table border=\"1\" class=\"dataframe\">\n",
       "  <thead>\n",
       "    <tr style=\"text-align: right;\">\n",
       "      <th></th>\n",
       "      <th>count</th>\n",
       "      <th>mean</th>\n",
       "      <th>std</th>\n",
       "      <th>min</th>\n",
       "      <th>25%</th>\n",
       "      <th>50%</th>\n",
       "      <th>75%</th>\n",
       "      <th>max</th>\n",
       "    </tr>\n",
       "    <tr>\n",
       "      <th>hour</th>\n",
       "      <th></th>\n",
       "      <th></th>\n",
       "      <th></th>\n",
       "      <th></th>\n",
       "      <th></th>\n",
       "      <th></th>\n",
       "      <th></th>\n",
       "      <th></th>\n",
       "    </tr>\n",
       "  </thead>\n",
       "  <tbody>\n",
       "    <tr>\n",
       "      <th>0</th>\n",
       "      <td>1890.0</td>\n",
       "      <td>11.922873</td>\n",
       "      <td>8.592224</td>\n",
       "      <td>2.5</td>\n",
       "      <td>6.50</td>\n",
       "      <td>9.30</td>\n",
       "      <td>14.50</td>\n",
       "      <td>88.25</td>\n",
       "    </tr>\n",
       "    <tr>\n",
       "      <th>1</th>\n",
       "      <td>1484.0</td>\n",
       "      <td>11.726065</td>\n",
       "      <td>9.043038</td>\n",
       "      <td>2.5</td>\n",
       "      <td>6.50</td>\n",
       "      <td>9.00</td>\n",
       "      <td>14.10</td>\n",
       "      <td>128.83</td>\n",
       "    </tr>\n",
       "    <tr>\n",
       "      <th>2</th>\n",
       "      <td>1088.0</td>\n",
       "      <td>11.246765</td>\n",
       "      <td>8.628222</td>\n",
       "      <td>2.5</td>\n",
       "      <td>6.10</td>\n",
       "      <td>8.90</td>\n",
       "      <td>13.70</td>\n",
       "      <td>136.00</td>\n",
       "    </tr>\n",
       "    <tr>\n",
       "      <th>3</th>\n",
       "      <td>847.0</td>\n",
       "      <td>12.087237</td>\n",
       "      <td>12.358673</td>\n",
       "      <td>2.5</td>\n",
       "      <td>6.00</td>\n",
       "      <td>8.90</td>\n",
       "      <td>14.50</td>\n",
       "      <td>200.00</td>\n",
       "    </tr>\n",
       "    <tr>\n",
       "      <th>4</th>\n",
       "      <td>610.0</td>\n",
       "      <td>13.740623</td>\n",
       "      <td>10.944349</td>\n",
       "      <td>2.5</td>\n",
       "      <td>6.50</td>\n",
       "      <td>10.00</td>\n",
       "      <td>17.70</td>\n",
       "      <td>80.35</td>\n",
       "    </tr>\n",
       "    <tr>\n",
       "      <th>5</th>\n",
       "      <td>508.0</td>\n",
       "      <td>15.338209</td>\n",
       "      <td>14.856332</td>\n",
       "      <td>-2.5</td>\n",
       "      <td>5.95</td>\n",
       "      <td>9.15</td>\n",
       "      <td>18.60</td>\n",
       "      <td>82.50</td>\n",
       "    </tr>\n",
       "    <tr>\n",
       "      <th>6</th>\n",
       "      <td>1017.0</td>\n",
       "      <td>12.280570</td>\n",
       "      <td>12.168081</td>\n",
       "      <td>2.5</td>\n",
       "      <td>5.30</td>\n",
       "      <td>7.70</td>\n",
       "      <td>12.50</td>\n",
       "      <td>78.50</td>\n",
       "    </tr>\n",
       "    <tr>\n",
       "      <th>7</th>\n",
       "      <td>1899.0</td>\n",
       "      <td>11.121827</td>\n",
       "      <td>10.251250</td>\n",
       "      <td>2.5</td>\n",
       "      <td>5.70</td>\n",
       "      <td>8.00</td>\n",
       "      <td>11.70</td>\n",
       "      <td>87.00</td>\n",
       "    </tr>\n",
       "    <tr>\n",
       "      <th>8</th>\n",
       "      <td>2209.0</td>\n",
       "      <td>10.611852</td>\n",
       "      <td>8.604485</td>\n",
       "      <td>-3.0</td>\n",
       "      <td>6.00</td>\n",
       "      <td>8.10</td>\n",
       "      <td>11.70</td>\n",
       "      <td>95.00</td>\n",
       "    </tr>\n",
       "    <tr>\n",
       "      <th>9</th>\n",
       "      <td>2379.0</td>\n",
       "      <td>10.533871</td>\n",
       "      <td>8.120353</td>\n",
       "      <td>2.5</td>\n",
       "      <td>5.70</td>\n",
       "      <td>8.10</td>\n",
       "      <td>12.00</td>\n",
       "      <td>79.00</td>\n",
       "    </tr>\n",
       "    <tr>\n",
       "      <th>10</th>\n",
       "      <td>2259.0</td>\n",
       "      <td>10.852470</td>\n",
       "      <td>9.561050</td>\n",
       "      <td>-5.0</td>\n",
       "      <td>5.70</td>\n",
       "      <td>8.10</td>\n",
       "      <td>11.85</td>\n",
       "      <td>135.00</td>\n",
       "    </tr>\n",
       "    <tr>\n",
       "      <th>11</th>\n",
       "      <td>2357.0</td>\n",
       "      <td>11.087968</td>\n",
       "      <td>9.610039</td>\n",
       "      <td>2.5</td>\n",
       "      <td>6.00</td>\n",
       "      <td>8.10</td>\n",
       "      <td>12.50</td>\n",
       "      <td>160.00</td>\n",
       "    </tr>\n",
       "    <tr>\n",
       "      <th>12</th>\n",
       "      <td>2471.0</td>\n",
       "      <td>11.263934</td>\n",
       "      <td>9.196111</td>\n",
       "      <td>2.5</td>\n",
       "      <td>6.00</td>\n",
       "      <td>8.50</td>\n",
       "      <td>12.50</td>\n",
       "      <td>89.90</td>\n",
       "    </tr>\n",
       "    <tr>\n",
       "      <th>13</th>\n",
       "      <td>2475.0</td>\n",
       "      <td>11.654630</td>\n",
       "      <td>10.237041</td>\n",
       "      <td>-2.5</td>\n",
       "      <td>6.10</td>\n",
       "      <td>8.50</td>\n",
       "      <td>12.50</td>\n",
       "      <td>93.75</td>\n",
       "    </tr>\n",
       "    <tr>\n",
       "      <th>14</th>\n",
       "      <td>2471.0</td>\n",
       "      <td>12.086860</td>\n",
       "      <td>10.670418</td>\n",
       "      <td>0.0</td>\n",
       "      <td>6.10</td>\n",
       "      <td>8.50</td>\n",
       "      <td>13.00</td>\n",
       "      <td>88.00</td>\n",
       "    </tr>\n",
       "    <tr>\n",
       "      <th>15</th>\n",
       "      <td>2355.0</td>\n",
       "      <td>12.070505</td>\n",
       "      <td>11.269364</td>\n",
       "      <td>-2.5</td>\n",
       "      <td>6.00</td>\n",
       "      <td>8.50</td>\n",
       "      <td>12.90</td>\n",
       "      <td>104.67</td>\n",
       "    </tr>\n",
       "    <tr>\n",
       "      <th>16</th>\n",
       "      <td>2045.0</td>\n",
       "      <td>12.241614</td>\n",
       "      <td>11.503268</td>\n",
       "      <td>2.5</td>\n",
       "      <td>5.70</td>\n",
       "      <td>8.10</td>\n",
       "      <td>12.90</td>\n",
       "      <td>82.50</td>\n",
       "    </tr>\n",
       "    <tr>\n",
       "      <th>17</th>\n",
       "      <td>2490.0</td>\n",
       "      <td>11.331663</td>\n",
       "      <td>9.927398</td>\n",
       "      <td>2.5</td>\n",
       "      <td>6.00</td>\n",
       "      <td>8.50</td>\n",
       "      <td>12.50</td>\n",
       "      <td>120.00</td>\n",
       "    </tr>\n",
       "    <tr>\n",
       "      <th>18</th>\n",
       "      <td>3077.0</td>\n",
       "      <td>11.150640</td>\n",
       "      <td>9.525704</td>\n",
       "      <td>2.5</td>\n",
       "      <td>6.00</td>\n",
       "      <td>8.50</td>\n",
       "      <td>12.50</td>\n",
       "      <td>143.00</td>\n",
       "    </tr>\n",
       "    <tr>\n",
       "      <th>19</th>\n",
       "      <td>3118.0</td>\n",
       "      <td>10.734413</td>\n",
       "      <td>8.577008</td>\n",
       "      <td>0.0</td>\n",
       "      <td>6.00</td>\n",
       "      <td>8.10</td>\n",
       "      <td>12.10</td>\n",
       "      <td>92.49</td>\n",
       "    </tr>\n",
       "    <tr>\n",
       "      <th>20</th>\n",
       "      <td>2859.0</td>\n",
       "      <td>10.736439</td>\n",
       "      <td>9.028118</td>\n",
       "      <td>2.5</td>\n",
       "      <td>6.10</td>\n",
       "      <td>8.10</td>\n",
       "      <td>12.00</td>\n",
       "      <td>180.00</td>\n",
       "    </tr>\n",
       "    <tr>\n",
       "      <th>21</th>\n",
       "      <td>2817.0</td>\n",
       "      <td>11.062478</td>\n",
       "      <td>9.081034</td>\n",
       "      <td>0.0</td>\n",
       "      <td>6.10</td>\n",
       "      <td>8.50</td>\n",
       "      <td>12.50</td>\n",
       "      <td>165.00</td>\n",
       "    </tr>\n",
       "    <tr>\n",
       "      <th>22</th>\n",
       "      <td>2808.0</td>\n",
       "      <td>11.035808</td>\n",
       "      <td>8.064685</td>\n",
       "      <td>2.5</td>\n",
       "      <td>6.10</td>\n",
       "      <td>8.50</td>\n",
       "      <td>12.90</td>\n",
       "      <td>85.00</td>\n",
       "    </tr>\n",
       "    <tr>\n",
       "      <th>23</th>\n",
       "      <td>2467.0</td>\n",
       "      <td>11.355910</td>\n",
       "      <td>8.905995</td>\n",
       "      <td>-2.9</td>\n",
       "      <td>6.10</td>\n",
       "      <td>8.50</td>\n",
       "      <td>13.30</td>\n",
       "      <td>128.61</td>\n",
       "    </tr>\n",
       "  </tbody>\n",
       "</table>\n",
       "</div>"
      ],
      "text/plain": [
       "       count       mean        std  min   25%    50%    75%     max\n",
       "hour                                                               \n",
       "0     1890.0  11.922873   8.592224  2.5  6.50   9.30  14.50   88.25\n",
       "1     1484.0  11.726065   9.043038  2.5  6.50   9.00  14.10  128.83\n",
       "2     1088.0  11.246765   8.628222  2.5  6.10   8.90  13.70  136.00\n",
       "3      847.0  12.087237  12.358673  2.5  6.00   8.90  14.50  200.00\n",
       "4      610.0  13.740623  10.944349  2.5  6.50  10.00  17.70   80.35\n",
       "5      508.0  15.338209  14.856332 -2.5  5.95   9.15  18.60   82.50\n",
       "6     1017.0  12.280570  12.168081  2.5  5.30   7.70  12.50   78.50\n",
       "7     1899.0  11.121827  10.251250  2.5  5.70   8.00  11.70   87.00\n",
       "8     2209.0  10.611852   8.604485 -3.0  6.00   8.10  11.70   95.00\n",
       "9     2379.0  10.533871   8.120353  2.5  5.70   8.10  12.00   79.00\n",
       "10    2259.0  10.852470   9.561050 -5.0  5.70   8.10  11.85  135.00\n",
       "11    2357.0  11.087968   9.610039  2.5  6.00   8.10  12.50  160.00\n",
       "12    2471.0  11.263934   9.196111  2.5  6.00   8.50  12.50   89.90\n",
       "13    2475.0  11.654630  10.237041 -2.5  6.10   8.50  12.50   93.75\n",
       "14    2471.0  12.086860  10.670418  0.0  6.10   8.50  13.00   88.00\n",
       "15    2355.0  12.070505  11.269364 -2.5  6.00   8.50  12.90  104.67\n",
       "16    2045.0  12.241614  11.503268  2.5  5.70   8.10  12.90   82.50\n",
       "17    2490.0  11.331663   9.927398  2.5  6.00   8.50  12.50  120.00\n",
       "18    3077.0  11.150640   9.525704  2.5  6.00   8.50  12.50  143.00\n",
       "19    3118.0  10.734413   8.577008  0.0  6.00   8.10  12.10   92.49\n",
       "20    2859.0  10.736439   9.028118  2.5  6.10   8.10  12.00  180.00\n",
       "21    2817.0  11.062478   9.081034  0.0  6.10   8.50  12.50  165.00\n",
       "22    2808.0  11.035808   8.064685  2.5  6.10   8.50  12.90   85.00\n",
       "23    2467.0  11.355910   8.905995 -2.9  6.10   8.50  13.30  128.61"
      ]
     },
     "execution_count": 42,
     "metadata": {},
     "output_type": "execute_result"
    },
    {
     "data": {
      "image/png": "[encoded data removed]",
      "text/plain": [
       "<Figure size 432x288 with 1 Axes>"
      ]
     },
     "metadata": {
      "needs_background": "light"
     },
     "output_type": "display_data"
    }
   ],
   "source": [
    "#Boxplot\n",
    "props2 = dict(boxes = 'red', whiskers = 'green', medians = 'black', caps = 'red')\n",
    "tf.hour.plot.box(color=props2, patch_artist = True, vert = False)\n",
    "tf.groupby('hour')['amount'].describe()"
   ]
  },
  {
   "cell_type": "code",
   "execution_count": 47,
   "id": "48c5ab9d",
   "metadata": {},
   "outputs": [
    {
     "data": {
      "image/png": "[encoded data removed]",
      "text/plain": [
       "<Figure size 432x288 with 1 Axes>"
      ]
     },
     "metadata": {
      "needs_background": "light"
     },
     "output_type": "display_data"
    },
    {
     "data": {
      "image/png": "[encoded data removed]",
      "text/plain": [
       "<Figure size 432x288 with 1 Axes>"
      ]
     },
     "metadata": {
      "needs_background": "light"
     },
     "output_type": "display_data"
    }
   ],
   "source": [
    "plt.plot(tf.groupby('hour')['amount'].mean())\n",
    "plt.title(\"Hourly mean fare\")\n",
    "plt.show()\n",
    "\n",
    "plt.plot(tf.groupby('hour')['amount'].count())\n",
    "plt.title(\"Hourly counts\")\n",
    "plt.show()"
   ]
  },
  {
   "cell_type": "code",
   "execution_count": null,
   "id": "73f0f66c",
   "metadata": {},
   "outputs": [],
   "source": [
    "#___________________________________below is for interest sake only! \n",
    "#_______________________IGNORE DIST TRAVELLED \n",
    "\n",
    "#Distance in miles\n",
    "def distance(lat1, lon1, lat2, lon2):\n",
    "  p = 0.017453292519943295 # Pi/180\n",
    "  a = 0.5 - np.cos((lat2 - lat1) * p)/2 + np.cos(lat1 * p) * np.cos(lat2 * p) * (1 - np.cos((lon2 - lon1) * p))/2\n",
    "  return 0.6213712 * 12742 * np.arcsin(np.sqrt(a))\n",
    "\n",
    "tf['distance_travelled'] = distance(tf.latitude_of_pickup, tf.longitude_of_pickup,\n",
    "                                    tf.latitude_of_dropoff, tf.longitude_of_dropoff)\n",
    "tf.distance_travelled.head()\n"
   ]
  },
  {
   "cell_type": "code",
   "execution_count": null,
   "id": "fc89df0b",
   "metadata": {},
   "outputs": [],
   "source": [
    "#Histogram - There will be difficulty in reading histogram; Better ignore! \n",
    "#Takes little time to execute\n",
    "plt.hist(tf.distance_travelled, bins='auto')\n",
    "plt.xlabel(\"Distance Travelled\")\n",
    "plt.ylabel('counts')\n",
    "plt.title(\"Histogram of Distance Travelled\")"
   ]
  },
  {
   "cell_type": "code",
   "execution_count": 50,
   "id": "951c7be3",
   "metadata": {},
   "outputs": [
    {
     "data": {
      "text/plain": [
       "count    50000.000000\n",
       "mean        11.500926\n",
       "std        220.937422\n",
       "min          0.000000\n",
       "25%          0.760028\n",
       "50%          1.317378\n",
       "75%          2.420595\n",
       "max       5385.932977\n",
       "Name: distance_travelled, dtype: float64"
      ]
     },
     "execution_count": 50,
     "metadata": {},
     "output_type": "execute_result"
    }
   ],
   "source": [
    "tf.distance_travelled.describe()"
   ]
  },
  {
   "cell_type": "code",
   "execution_count": 51,
   "id": "6a68a42c",
   "metadata": {},
   "outputs": [
    {
     "name": "stderr",
     "output_type": "stream",
     "text": [
      "C:\\Users\\Admin\\anaconda3\\lib\\site-packages\\seaborn\\_decorators.py:36: FutureWarning: Pass the following variables as keyword args: x, y. From version 0.12, the only valid positional argument will be `data`, and passing other arguments without an explicit keyword will result in an error or misinterpretation.\n",
      "  warnings.warn(\n"
     ]
    },
    {
     "data": {
      "text/plain": [
       "<AxesSubplot:xlabel='distance_travelled', ylabel='amount'>"
      ]
     },
     "execution_count": 51,
     "metadata": {},
     "output_type": "execute_result"
    },
    {
     "data": {
      "image/png": "[encoded data removed]",
      "text/plain": [
       "<Figure size 432x288 with 1 Axes>"
      ]
     },
     "metadata": {
      "needs_background": "light"
     },
     "output_type": "display_data"
    }
   ],
   "source": [
    "#Scatter plot Distance vs Amount; Looks strange!!\n",
    "sns.scatterplot(tf.distance_travelled, tf.amount)\n"
   ]
  },
  {
   "cell_type": "code",
   "execution_count": 52,
   "id": "4a8b2e62",
   "metadata": {},
   "outputs": [
    {
     "data": {
      "text/plain": [
       "<AxesSubplot:>"
      ]
     },
     "execution_count": 52,
     "metadata": {},
     "output_type": "execute_result"
    },
    {
     "data": {
      "image/png": "[encoded data removed]",
      "text/plain": [
       "<Figure size 432x288 with 1 Axes>"
      ]
     },
     "metadata": {
      "needs_background": "light"
     },
     "output_type": "display_data"
    }
   ],
   "source": [
    "#Boxplot\n",
    "props2 = dict(boxes = 'red', whiskers = 'green', medians = 'black', caps = 'red')\n",
    "tf.distance_travelled.plot.box(color=props2, patch_artist = True, vert = False)"
   ]
  },
  {
   "cell_type": "code",
   "execution_count": 53,
   "id": "83568a0b",
   "metadata": {},
   "outputs": [
    {
     "data": {
      "text/plain": [
       "count    50000.000000\n",
       "mean         1.667840\n",
       "std          1.289195\n",
       "min          0.000000\n",
       "25%          1.000000\n",
       "50%          1.000000\n",
       "75%          2.000000\n",
       "max          6.000000\n",
       "Name: no_of_passenger, dtype: float64"
      ]
     },
     "execution_count": 53,
     "metadata": {},
     "output_type": "execute_result"
    }
   ],
   "source": [
    "#________________________________7 no_of_passenger\n",
    "tf.no_of_passenger.describe()"
   ]
  },
  {
   "cell_type": "code",
   "execution_count": 54,
   "id": "7e171038",
   "metadata": {},
   "outputs": [
    {
     "data": {
      "text/plain": [
       "1    34808\n",
       "2     7386\n",
       "5     3453\n",
       "3     2183\n",
       "4     1016\n",
       "6      989\n",
       "0      165\n",
       "Name: no_of_passenger, dtype: int64"
      ]
     },
     "execution_count": 54,
     "metadata": {},
     "output_type": "execute_result"
    }
   ],
   "source": [
    "tf.no_of_passenger.value_counts()"
   ]
  },
  {
   "cell_type": "code",
   "execution_count": 55,
   "id": "69cecb91",
   "metadata": {},
   "outputs": [
    {
     "data": {
      "text/plain": [
       "Text(0.5, 1.0, \"No of Passenger's\")"
      ]
     },
     "execution_count": 55,
     "metadata": {},
     "output_type": "execute_result"
    },
    {
     "data": {
      "image/png": "[encoded data removed]",
      "text/plain": [
       "<Figure size 432x288 with 1 Axes>"
      ]
     },
     "metadata": {
      "needs_background": "light"
     },
     "output_type": "display_data"
    }
   ],
   "source": [
    "#Barplot/ Countplot\n",
    "sns.countplot(x='no_of_passenger', data=tf)\n",
    "plt.xlabel(\"No of Passenger's\")\n",
    "plt.ylabel('counts')\n",
    "plt.title(\"No of Passenger's\")"
   ]
  },
  {
   "cell_type": "code",
   "execution_count": 56,
   "id": "fee66ea6",
   "metadata": {},
   "outputs": [
    {
     "data": {
      "text/plain": [
       "<AxesSubplot:>"
      ]
     },
     "execution_count": 56,
     "metadata": {},
     "output_type": "execute_result"
    },
    {
     "data": {
      "image/png": "[encoded data removed]",
      "text/plain": [
       "<Figure size 432x288 with 1 Axes>"
      ]
     },
     "metadata": {
      "needs_background": "light"
     },
     "output_type": "display_data"
    }
   ],
   "source": [
    "#Boxplot\n",
    "props2 = dict(boxes = 'red', whiskers = 'green', medians = 'black', caps = 'red')\n",
    "tf.no_of_passenger.plot.box(color=props2, patch_artist = True, vert = False)"
   ]
  },
  {
   "cell_type": "code",
   "execution_count": 59,
   "id": "2ca23833",
   "metadata": {},
   "outputs": [],
   "source": [
    "import sklearn\n",
    "from sklearn import tree\n",
    "from sklearn import metrics\n",
    "from sklearn.tree import DecisionTreeRegressor\n",
    "from sklearn.model_selection import train_test_split\n",
    "from sklearn.ensemble import RandomForestRegressor"
   ]
  },
  {
   "cell_type": "code",
   "execution_count": 60,
   "id": "df42961b",
   "metadata": {},
   "outputs": [
    {
     "name": "stdout",
     "output_type": "stream",
     "text": [
      "<class 'pandas.core.frame.DataFrame'>\n",
      "RangeIndex: 50000 entries, 0 to 49999\n",
      "Data columns (total 13 columns):\n",
      " #   Column                Non-Null Count  Dtype              \n",
      "---  ------                --------------  -----              \n",
      " 0   unique_id             50000 non-null  object             \n",
      " 1   amount                50000 non-null  float64            \n",
      " 2   date_time_of_pickup   50000 non-null  datetime64[ns, UTC]\n",
      " 3   longitude_of_pickup   50000 non-null  float64            \n",
      " 4   latitude_of_pickup    50000 non-null  float64            \n",
      " 5   longitude_of_dropoff  50000 non-null  float64            \n",
      " 6   latitude_of_dropoff   50000 non-null  float64            \n",
      " 7   no_of_passenger       50000 non-null  int64              \n",
      " 8   year                  50000 non-null  int64              \n",
      " 9   month                 50000 non-null  int64              \n",
      " 10  day                   50000 non-null  int64              \n",
      " 11  hour                  50000 non-null  int64              \n",
      " 12  distance_travelled    50000 non-null  float64            \n",
      "dtypes: datetime64[ns, UTC](1), float64(6), int64(5), object(1)\n",
      "memory usage: 5.0+ MB\n",
      "<class 'pandas.core.frame.DataFrame'>\n",
      "RangeIndex: 50000 entries, 0 to 49999\n",
      "Data columns (total 9 columns):\n",
      " #   Column                Non-Null Count  Dtype  \n",
      "---  ------                --------------  -----  \n",
      " 0   longitude_of_pickup   50000 non-null  float64\n",
      " 1   latitude_of_pickup    50000 non-null  float64\n",
      " 2   longitude_of_dropoff  50000 non-null  float64\n",
      " 3   latitude_of_dropoff   50000 non-null  float64\n",
      " 4   no_of_passenger       50000 non-null  int64  \n",
      " 5   year                  50000 non-null  int64  \n",
      " 6   month                 50000 non-null  int64  \n",
      " 7   day                   50000 non-null  int64  \n",
      " 8   hour                  50000 non-null  int64  \n",
      "dtypes: float64(4), int64(5)\n",
      "memory usage: 3.4 MB\n"
     ]
    }
   ],
   "source": [
    "\n",
    "#Splitting the Dataset\n",
    "tf.info()\n",
    "x = tf.iloc[:,3:12] #9 Predictors [dist not included]; 12th will not be picked!\n",
    "x.info()\n",
    "y = tf.iloc[:,1] # amount"
   ]
  },
  {
   "cell_type": "code",
   "execution_count": 61,
   "id": "13bd00ff",
   "metadata": {},
   "outputs": [
    {
     "data": {
      "text/plain": [
       "15000"
      ]
     },
     "execution_count": 61,
     "metadata": {},
     "output_type": "execute_result"
    }
   ],
   "source": [
    "x_train, x_test, y_train, y_test = train_test_split(x,y, test_size=0.3, random_state=123)\n",
    "len(x_train) #35000\n",
    "len(x_test) #15000\n",
    "len(y_train) #35000\n",
    "len(y_test) #15000"
   ]
  },
  {
   "cell_type": "code",
   "execution_count": 62,
   "id": "88456f03",
   "metadata": {},
   "outputs": [],
   "source": [
    "#Decision Tree\n",
    "clf = tree.DecisionTreeRegressor()\n",
    "tf_clf = clf.fit(x_train, y_train)"
   ]
  },
  {
   "cell_type": "code",
   "execution_count": 63,
   "id": "0255c851",
   "metadata": {},
   "outputs": [],
   "source": [
    "#Prediction\n",
    "y_pred = tf_clf.predict(x_test)"
   ]
  },
  {
   "cell_type": "code",
   "execution_count": 64,
   "id": "e05d6f6f",
   "metadata": {},
   "outputs": [
    {
     "name": "stdout",
     "output_type": "stream",
     "text": [
      "6.54253825310432\n"
     ]
    }
   ],
   "source": [
    "#RMSE\n",
    "from sklearn.metrics import mean_squared_error\n",
    "mse = mean_squared_error(y_test, y_pred)\n",
    "RMSE = np.sqrt(mse)\n",
    "print(RMSE) #6.42"
   ]
  },
  {
   "cell_type": "code",
   "execution_count": 66,
   "id": "2a263ae6",
   "metadata": {},
   "outputs": [
    {
     "data": {
      "image/png": "[encoded data removed]",
      "text/plain": [
       "<Figure size 432x288 with 1 Axes>"
      ]
     },
     "metadata": {
      "needs_background": "light"
     },
     "output_type": "display_data"
    }
   ],
   "source": [
    "#plot\n",
    "len(y_test) # 15000\n",
    "obs_No = list(range(1, 15001))\n",
    "xaxis = obs_No\n",
    "\n",
    "plt.plot(xaxis, y_pred, 'r')\n",
    "plt.plot(xaxis, y_test, 'b')\n",
    "plt.xlabel('No of Observations')\n",
    "plt.ylabel('Test & Predict')\n",
    "plt.title('Decision Tree')\n",
    "plt.legend(labels= ('Test', 'Predict'), loc= 'upper left')\n",
    "plt.show()\n"
   ]
  },
  {
   "cell_type": "code",
   "execution_count": 70,
   "id": "2348a21f",
   "metadata": {},
   "outputs": [],
   "source": [
    "#___________________________________________________Random Forest\n",
    "rfr = RandomForestRegressor(n_estimators = 300) \n",
    "tf_rfr = rfr.fit(x_train, y_train) # takes time!"
   ]
  },
  {
   "cell_type": "code",
   "execution_count": 71,
   "id": "e94803a0",
   "metadata": {},
   "outputs": [],
   "source": [
    "#Prediction\n",
    "y_pred = tf_rfr.predict(x_test)\n"
   ]
  },
  {
   "cell_type": "code",
   "execution_count": 72,
   "id": "47095c50",
   "metadata": {},
   "outputs": [
    {
     "name": "stdout",
     "output_type": "stream",
     "text": [
      "4.358095766003972\n"
     ]
    }
   ],
   "source": [
    "#RMSE\n",
    "from sklearn.metrics import mean_squared_error\n",
    "mse = mean_squared_error(y_test, y_pred)\n",
    "RMSE = np.sqrt(mse)\n",
    "print(RMSE) #4.39\n"
   ]
  },
  {
   "cell_type": "code",
   "execution_count": null,
   "id": "c0030f90",
   "metadata": {},
   "outputs": [],
   "source": []
  },
  {
   "cell_type": "code",
   "execution_count": null,
   "id": "ad30623b",
   "metadata": {},
   "outputs": [],
   "source": []
  },
  {
   "cell_type": "code",
   "execution_count": null,
   "id": "4df224b1",
   "metadata": {},
   "outputs": [],
   "source": []
  },
  {
   "cell_type": "code",
   "execution_count": null,
   "id": "97e8764f",
   "metadata": {},
   "outputs": [],
   "source": []
  },
  {
   "cell_type": "code",
   "execution_count": null,
   "id": "95a236fc",
   "metadata": {},
   "outputs": [],
   "source": []
  },
  {
   "cell_type": "code",
   "execution_count": null,
   "id": "998f5b50",
   "metadata": {},
   "outputs": [],
   "source": []
  },
  {
   "cell_type": "code",
   "execution_count": null,
   "id": "578f5730",
   "metadata": {},
   "outputs": [],
   "source": []
  },
  {
   "cell_type": "code",
   "execution_count": null,
   "id": "056989ef",
   "metadata": {},
   "outputs": [],
   "source": []
  },
  {
   "cell_type": "code",
   "execution_count": null,
   "id": "86fcf108",
   "metadata": {},
   "outputs": [],
   "source": []
  },
  {
   "cell_type": "code",
   "execution_count": null,
   "id": "fcedd198",
   "metadata": {},
   "outputs": [],
   "source": []
  },
  {
   "cell_type": "code",
   "execution_count": null,
   "id": "bf501bd8",
   "metadata": {},
   "outputs": [],
   "source": []
  },
  {
   "cell_type": "code",
   "execution_count": null,
   "id": "af75e2eb",
   "metadata": {},
   "outputs": [],
   "source": []
  },
  {
   "cell_type": "code",
   "execution_count": null,
   "id": "1e1f3cc4",
   "metadata": {},
   "outputs": [],
   "source": []
  },
  {
   "cell_type": "code",
   "execution_count": null,
   "id": "a1117046",
   "metadata": {},
   "outputs": [],
   "source": []
  },
  {
   "cell_type": "code",
   "execution_count": null,
   "id": "8d20a8cb",
   "metadata": {},
   "outputs": [],
   "source": []
  },
  {
   "cell_type": "code",
   "execution_count": null,
   "id": "26f4f4d1",
   "metadata": {},
   "outputs": [],
   "source": []
  },
  {
   "cell_type": "code",
   "execution_count": null,
   "id": "fc313306",
   "metadata": {},
   "outputs": [],
   "source": []
  },
  {
   "cell_type": "code",
   "execution_count": null,
   "id": "dda4ab49",
   "metadata": {},
   "outputs": [],
   "source": []
  },
  {
   "cell_type": "code",
   "execution_count": null,
   "id": "f8d13586",
   "metadata": {},
   "outputs": [],
   "source": []
  },
  {
   "cell_type": "code",
   "execution_count": null,
   "id": "c1c353fe",
   "metadata": {},
   "outputs": [],
   "source": []
  },
  {
   "cell_type": "code",
   "execution_count": null,
   "id": "a66419ba",
   "metadata": {},
   "outputs": [],
   "source": []
  },
  {
   "cell_type": "code",
   "execution_count": null,
   "id": "8f3f6102",
   "metadata": {},
   "outputs": [],
   "source": []
  },
  {
   "cell_type": "code",
   "execution_count": null,
   "id": "98b699c8",
   "metadata": {},
   "outputs": [],
   "source": []
  },
  {
   "cell_type": "code",
   "execution_count": null,
   "id": "a0bd4989",
   "metadata": {},
   "outputs": [],
   "source": []
  },
  {
   "cell_type": "code",
   "execution_count": null,
   "id": "196b7a43",
   "metadata": {},
   "outputs": [],
   "source": []
  },
  {
   "cell_type": "code",
   "execution_count": null,
   "id": "a3f97236",
   "metadata": {},
   "outputs": [],
   "source": []
  }
 ],
 "metadata": {
  "kernelspec": {
   "display_name": "Python 3 (ipykernel)",
   "language": "python",
   "name": "python3"
  },
  "language_info": {
   "codemirror_mode": {
    "name": "ipython",
    "version": 3
   },
   "file_extension": ".py",
   "mimetype": "text/x-python",
   "name": "python",
   "nbconvert_exporter": "python",
   "pygments_lexer": "ipython3",
   "version": "3.10.9"
  }
 },
 "nbformat": 4,
 "nbformat_minor": 5
}
